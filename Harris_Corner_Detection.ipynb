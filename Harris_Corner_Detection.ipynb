{
  "nbformat": 4,
  "nbformat_minor": 0,
  "metadata": {
    "colab": {
      "provenance": [],
      "gpuType": "T4",
      "authorship_tag": "ABX9TyO3qqROa5LtgG99BFrQp4To",
      "include_colab_link": true
    },
    "kernelspec": {
      "name": "python3",
      "display_name": "Python 3"
    },
    "language_info": {
      "name": "python"
    },
    "accelerator": "GPU"
  },
  "cells": [
    {
      "cell_type": "markdown",
      "metadata": {
        "id": "view-in-github",
        "colab_type": "text"
      },
      "source": [
        "<a href=\"https://colab.research.google.com/github/Amehroke/MachineLearning/blob/main/Harris_Corner_Detection.ipynb\" target=\"_parent\"><img src=\"https://colab.research.google.com/assets/colab-badge.svg\" alt=\"Open In Colab\"/></a>"
      ]
    },
    {
      "cell_type": "markdown",
      "source": [
        "Computer vision Harris Corner Detection implementation"
      ],
      "metadata": {
        "id": "tYlrAfZ3Z-rL"
      }
    },
    {
      "cell_type": "code",
      "source": [
        "# Import the 'imread' function from the 'skimage.io' library to read images.\n",
        "from skimage.io import imread\n",
        "# Import the 'rgb2gray' function from the 'skimage.color' library to convert the image to grayscale.\n",
        "from skimage.color import rgb2gray\n",
        "# Import 'numpy' as 'np' to use NumPy for numerical operations.\n",
        "import numpy as np\n",
        "# Import 'matplotlib.pyplot' as 'plt' to display images and plots.\n",
        "import matplotlib.pyplot as plt\n",
        "# Import 'corner_peaks' from 'skimage.feature' to find corner points in the image.\n",
        "from skimage.feature import corner_peaks\n",
        "# Import 'convolve2d' from 'scipy.signal' to perform 2D convolution operations.\n",
        "from scipy.signal import convolve2d\n",
        "import scipy.ndimage as ndi\n",
        "from IPython.display import Image\n",
        "\n",
        "\n",
        "\n",
        "img = imread('/content/Harris-Corner.jpg')\n",
        "gray_image = rgb2gray(img)"
      ],
      "metadata": {
        "id": "KvkwjXd2hEcH"
      },
      "execution_count": 1,
      "outputs": []
    },
    {
      "cell_type": "markdown",
      "source": [
        "Step 2: Spatial derivative calculation"
      ],
      "metadata": {
        "id": "xISrVtypkRC9"
      }
    },
    {
      "cell_type": "code",
      "source": [
        "# Define the gradient calculation functions for matrix (M)\n",
        "\n",
        "# Calculate the x-direction gradient using convolution.\n",
        "def gradient_x(image):\n",
        "    kernel_x = np.array([[-1, 0, 1], [-2, 0, 2], [-1, 0, 1]])\n",
        "    return convolve2d(image, kernel_x, mode='same', boundary='wrap')\n",
        "\n",
        "# Calculate the y-direction gradient\n",
        "def gradient_y(image):\n",
        "    kernel_y = np.array([[1, 2, 1], [0, 0, 0], [-1, -2, -1]])\n",
        "    return convolve2d(image, kernel_y, mode='same', boundary='wrap')\n",
        "\n",
        "# Calculate the x & y -gradient of the grayscale image.\n",
        "I_x = gradient_x(gray_image)\n",
        "I_y = gradient_y(gray_image)\n",
        "#This represents the rate of change of intensities in the x and y directions, respectively, at each pixel."
      ],
      "metadata": {
        "id": "sQvjNmgCneWO"
      },
      "execution_count": 2,
      "outputs": []
    },
    {
      "cell_type": "markdown",
      "source": [
        "Step 3: Structure tensor setup"
      ],
      "metadata": {
        "id": "awE4jkbpog5D"
      }
    },
    {
      "cell_type": "code",
      "source": [
        "# We take take the Matrix components of Ix & Iy shown below, then\n",
        "#simplify it by taking the gradient of I and gradient of transpose I\n",
        "# Create guassians filtering of  (0-1)\n",
        "\n",
        "Ixx = ndi.gaussian_filter(I_x**2, sigma=1)\n",
        "Ixy = ndi.gaussian_filter(I_y*I_x, sigma=1)\n",
        "Iyy = ndi.gaussian_filter(I_y**2, sigma=1)\n",
        "\n",
        "\n",
        "# URL of image\n",
        "Image(url=\"https://i.stack.imgur.com/R7UV0.png\", width=300)\n"
      ],
      "metadata": {
        "colab": {
          "base_uri": "https://localhost:8080/",
          "height": 247
        },
        "id": "jUQguP0soiPA",
        "outputId": "b6473b75-e118-45a8-f20a-654d792f9d74"
      },
      "execution_count": 3,
      "outputs": [
        {
          "output_type": "execute_result",
          "data": {
            "text/html": [
              "<img src=\"https://i.stack.imgur.com/R7UV0.png\" width=\"300\"/>"
            ],
            "text/plain": [
              "<IPython.core.display.Image object>"
            ]
          },
          "metadata": {},
          "execution_count": 3
        }
      ]
    },
    {
      "cell_type": "markdown",
      "source": [
        "Step 4: Harris response calculation"
      ],
      "metadata": {
        "id": "3U-YE4xBpQSI"
      }
    },
    {
      "cell_type": "code",
      "source": [
        "k = 0.05 #constant of Harris Detector (0.04 to 0.06)\n",
        "\n",
        "# determinant\n",
        "#det(M) =  λ1 *  λ2\n",
        "detA = (Ixx) * (Iyy - Ixy ** 2)\n",
        "# trace(M) = λ1 + λ2\n",
        "traceA = Ixx + Iyy\n",
        "\n",
        "harris_response = detA - k * traceA ** 2\n",
        "\n",
        "\n",
        "Image(url=\"https://i0.wp.com/theailearner.com/wp-content/uploads/2021/09/feature8.png?w=531&ssl=1\", width=300)\n"
      ],
      "metadata": {
        "colab": {
          "base_uri": "https://localhost:8080/",
          "height": 194
        },
        "id": "C3K0zL4rpR6B",
        "outputId": "ace76a53-0882-40a0-9338-54df5d272fa6"
      },
      "execution_count": 4,
      "outputs": [
        {
          "output_type": "execute_result",
          "data": {
            "text/html": [
              "<img src=\"https://i0.wp.com/theailearner.com/wp-content/uploads/2021/09/feature8.png?w=531&ssl=1\" width=\"300\"/>"
            ],
            "text/plain": [
              "<IPython.core.display.Image object>"
            ]
          },
          "metadata": {},
          "execution_count": 4
        }
      ]
    },
    {
      "cell_type": "code",
      "source": [
        "# calculate the sum of squares of our gradient at each pixel by shifting\n",
        "#a window over all the pixels in our image.\n",
        "height_offset = 3\n",
        "width_offset = 3\n",
        "offset = 1\n",
        "\n",
        "for y in range(offset, height_offset):\n",
        "    for x in range(offset, width_offset):\n",
        "        Sxx = np.sum(Ixx[y-offset:y+1+offset, x-offset:x+1+offset])\n",
        "        Syy = np.sum(Iyy[y-offset:y+1+offset, x-offset:x+1+offset])\n",
        "        Sxy = np.sum(Ixy[y-offset:y+1+offset, x-offset:x+1+offset])\n",
        "\n",
        "Image(url=\"https://muthu.co/wp-content/uploads/2018/09/harris-corner-window.png\", width=300)"
      ],
      "metadata": {
        "colab": {
          "base_uri": "https://localhost:8080/",
          "height": 531
        },
        "id": "eEpfeuDPzLJl",
        "outputId": "1fc35269-8bac-4c47-a9c2-a0133e9e3647"
      },
      "execution_count": 5,
      "outputs": [
        {
          "output_type": "execute_result",
          "data": {
            "text/html": [
              "<img src=\"https://muthu.co/wp-content/uploads/2018/09/harris-corner-window.png\" width=\"300\"/>"
            ],
            "text/plain": [
              "<IPython.core.display.Image object>"
            ]
          },
          "metadata": {},
          "execution_count": 5
        }
      ]
    },
    {
      "cell_type": "code",
      "source": [
        "#Find determinant and trace, use to get corner response\n",
        "k = 0.04\n",
        "det = (Sxx * Syy) - (Sxy**2)\n",
        "trace = Sxx + Syy\n",
        "r = det - k*(trace**2)  # Calculate the corner response."
      ],
      "metadata": {
        "id": "JlN0ZUA10bbo"
      },
      "execution_count": 6,
      "outputs": []
    },
    {
      "cell_type": "markdown",
      "source": [
        "Step 5: Find edges and corners using R"
      ],
      "metadata": {
        "id": "5gQrNPSv1tui"
      }
    },
    {
      "cell_type": "code",
      "source": [
        "img_copy_for_corners = np.copy(img)\n",
        "img_copy_for_edges = np.copy(img)"
      ],
      "metadata": {
        "id": "idzvPmHv1uws"
      },
      "execution_count": 7,
      "outputs": []
    },
    {
      "cell_type": "markdown",
      "source": [
        "Plot the edges and corners on pyplot"
      ],
      "metadata": {
        "id": "cdcKcD6H2epi"
      }
    },
    {
      "cell_type": "code",
      "source": [
        "# Plot the edges and corners on pyplot\n",
        "fig, ax = plt.subplots()\n",
        "ax.imshow(gray_image, interpolation='nearest', cmap=plt.cm.gray)\n",
        "\n",
        "# Threshold for corner detection\n",
        "threshold = 0.01 * np.max(harris_response)\n",
        "\n",
        "# Mark corners with red dots\n",
        "for y in range(harris_response.shape[0]):\n",
        "    for x in range(harris_response.shape[1]):\n",
        "        if harris_response[y, x] > threshold:\n",
        "            ax.plot(x, y, 'r.', markersize=3)\n"
      ],
      "metadata": {
        "colab": {
          "base_uri": "https://localhost:8080/",
          "height": 435
        },
        "id": "tn35-XGe2iO7",
        "outputId": "9d60d826-8943-4b2f-daa4-9be705e27538"
      },
      "execution_count": 9,
      "outputs": [
        {
          "output_type": "display_data",
          "data": {
            "text/plain": [
              "<Figure size 640x480 with 1 Axes>"
            ],
            "image/png": "[encoded data removed]"
          },
          "metadata": {}
        }
      ]
    }
  ]
}